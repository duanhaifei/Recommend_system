{
 "cells": [
  {
   "cell_type": "code",
   "execution_count": 1,
   "metadata": {
    "collapsed": false
   },
   "outputs": [
    {
     "name": "stdout",
     "output_type": "stream",
     "text": [
      "初始化变量...\n",
      "------ 第1/5组样本 ------\n",
      "载入训练集dataset/ml-100k/u1.base\n",
      "计算训练集各项统计数据...\n",
      "计算相似度矩阵...\n"
     ]
    },
    {
     "name": "stderr",
     "output_type": "stream",
     "text": [
      "d:\\课程相关\\信息检索\\段海飞\\信息检索课程作业-22209202-段海飞-22209207-刘与乐-22209205-李博\\推荐系统\\推荐系统工程代码\\utils.py:15: RuntimeWarning: invalid value encountered in true_divide\n",
      "  var.item_mean = sum(var.ratings) / sum((var.ratings!=0))\n"
     ]
    },
    {
     "name": "stdout",
     "output_type": "stream",
     "text": [
      "计算完成\n",
      "在训练集上测试...\n",
      "载入测试集dataset/ml-100k/u1.test\n",
      "测试集规模为 20000\n",
      "在测试集上测试...\n"
     ]
    },
    {
     "name": "stderr",
     "output_type": "stream",
     "text": [
      "d:\\课程相关\\信息检索\\段海飞\\信息检索课程作业-22209202-段海飞-22209207-刘与乐-22209205-李博\\推荐系统\\推荐系统工程代码\\predict.py:70: RuntimeWarning: invalid value encountered in double_scalars\n",
      "  prediction = (var.ratings[choice, item] - baseline[choice]).dot(var.user_similarity[user, choice])\\\n"
     ]
    },
    {
     "name": "stdout",
     "output_type": "stream",
     "text": [
      "测试完成\n",
      "------ 第2/5组样本 ------\n",
      "载入训练集dataset/ml-100k/u2.base\n",
      "计算训练集各项统计数据...\n",
      "计算相似度矩阵...\n",
      "计算完成\n"
     ]
    },
    {
     "name": "stderr",
     "output_type": "stream",
     "text": [
      "d:\\课程相关\\信息检索\\段海飞\\信息检索课程作业-22209202-段海飞-22209207-刘与乐-22209205-李博\\推荐系统\\推荐系统工程代码\\utils.py:15: RuntimeWarning: invalid value encountered in true_divide\n",
      "  var.item_mean = sum(var.ratings) / sum((var.ratings!=0))\n"
     ]
    },
    {
     "name": "stdout",
     "output_type": "stream",
     "text": [
      "在训练集上测试...\n",
      "载入测试集dataset/ml-100k/u2.test\n",
      "测试集规模为 20000\n",
      "在测试集上测试...\n"
     ]
    },
    {
     "name": "stderr",
     "output_type": "stream",
     "text": [
      "d:\\课程相关\\信息检索\\段海飞\\信息检索课程作业-22209202-段海飞-22209207-刘与乐-22209205-李博\\推荐系统\\推荐系统工程代码\\predict.py:70: RuntimeWarning: invalid value encountered in double_scalars\n",
      "  prediction = (var.ratings[choice, item] - baseline[choice]).dot(var.user_similarity[user, choice])\\\n"
     ]
    },
    {
     "name": "stdout",
     "output_type": "stream",
     "text": [
      "测试完成\n",
      "------ 第3/5组样本 ------\n",
      "载入训练集dataset/ml-100k/u3.base\n",
      "计算训练集各项统计数据...\n",
      "计算相似度矩阵...\n",
      "计算完成\n"
     ]
    },
    {
     "name": "stderr",
     "output_type": "stream",
     "text": [
      "d:\\课程相关\\信息检索\\段海飞\\信息检索课程作业-22209202-段海飞-22209207-刘与乐-22209205-李博\\推荐系统\\推荐系统工程代码\\utils.py:15: RuntimeWarning: invalid value encountered in true_divide\n",
      "  var.item_mean = sum(var.ratings) / sum((var.ratings!=0))\n"
     ]
    },
    {
     "name": "stdout",
     "output_type": "stream",
     "text": [
      "在训练集上测试...\n",
      "载入测试集dataset/ml-100k/u3.test\n",
      "测试集规模为 20000\n",
      "在测试集上测试...\n"
     ]
    },
    {
     "name": "stderr",
     "output_type": "stream",
     "text": [
      "d:\\课程相关\\信息检索\\段海飞\\信息检索课程作业-22209202-段海飞-22209207-刘与乐-22209205-李博\\推荐系统\\推荐系统工程代码\\predict.py:70: RuntimeWarning: invalid value encountered in double_scalars\n",
      "  prediction = (var.ratings[choice, item] - baseline[choice]).dot(var.user_similarity[user, choice])\\\n"
     ]
    },
    {
     "name": "stdout",
     "output_type": "stream",
     "text": [
      "测试完成\n",
      "------ 第4/5组样本 ------\n",
      "载入训练集dataset/ml-100k/u4.base\n",
      "计算训练集各项统计数据...\n",
      "计算相似度矩阵...\n",
      "计算完成\n"
     ]
    },
    {
     "name": "stderr",
     "output_type": "stream",
     "text": [
      "d:\\课程相关\\信息检索\\段海飞\\信息检索课程作业-22209202-段海飞-22209207-刘与乐-22209205-李博\\推荐系统\\推荐系统工程代码\\utils.py:15: RuntimeWarning: invalid value encountered in true_divide\n",
      "  var.item_mean = sum(var.ratings) / sum((var.ratings!=0))\n"
     ]
    },
    {
     "name": "stdout",
     "output_type": "stream",
     "text": [
      "在训练集上测试...\n",
      "载入测试集dataset/ml-100k/u4.test\n",
      "测试集规模为 20000\n",
      "在测试集上测试...\n"
     ]
    },
    {
     "name": "stderr",
     "output_type": "stream",
     "text": [
      "d:\\课程相关\\信息检索\\段海飞\\信息检索课程作业-22209202-段海飞-22209207-刘与乐-22209205-李博\\推荐系统\\推荐系统工程代码\\predict.py:70: RuntimeWarning: invalid value encountered in double_scalars\n",
      "  prediction = (var.ratings[choice, item] - baseline[choice]).dot(var.user_similarity[user, choice])\\\n"
     ]
    },
    {
     "name": "stdout",
     "output_type": "stream",
     "text": [
      "测试完成\n",
      "------ 第5/5组样本 ------\n",
      "载入训练集dataset/ml-100k/u5.base\n",
      "计算训练集各项统计数据...\n",
      "计算相似度矩阵...\n",
      "计算完成\n"
     ]
    },
    {
     "name": "stderr",
     "output_type": "stream",
     "text": [
      "d:\\课程相关\\信息检索\\段海飞\\信息检索课程作业-22209202-段海飞-22209207-刘与乐-22209205-李博\\推荐系统\\推荐系统工程代码\\utils.py:15: RuntimeWarning: invalid value encountered in true_divide\n",
      "  var.item_mean = sum(var.ratings) / sum((var.ratings!=0))\n"
     ]
    },
    {
     "name": "stdout",
     "output_type": "stream",
     "text": [
      "在训练集上测试...\n",
      "载入测试集dataset/ml-100k/u5.test\n",
      "测试集规模为 20000\n",
      "在测试集上测试...\n"
     ]
    },
    {
     "name": "stderr",
     "output_type": "stream",
     "text": [
      "d:\\课程相关\\信息检索\\段海飞\\信息检索课程作业-22209202-段海飞-22209207-刘与乐-22209205-李博\\推荐系统\\推荐系统工程代码\\predict.py:70: RuntimeWarning: invalid value encountered in double_scalars\n",
      "  prediction = (var.ratings[choice, item] - baseline[choice]).dot(var.user_similarity[user, choice])\\\n"
     ]
    },
    {
     "name": "stdout",
     "output_type": "stream",
     "text": [
      "测试完成\n",
      "------ 测试结果 ------\n",
      "融合模型中，不同alpha在训练集上的RMSE:\n",
      "alpha = 0.00:   0.8225\n",
      "alpha = 0.10:   0.8108\n",
      "alpha = 0.30:   0.7907\n",
      "alpha = 0.50:   0.7754\n",
      "alpha = 0.60:   0.7696\n",
      "alpha = 0.65:   0.7672\n",
      "alpha = 0.70:   0.7651\n",
      "alpha = 0.75:   0.7634\n",
      "alpha = 0.80:   0.7620\n",
      "alpha = 0.90:   0.7601\n",
      "alpha = 1.00:   0.7596\n",
      "融合模型中，不同alpha在测试集上的RMSE:\n",
      "alpha = 0.00:   0.9445\n",
      "alpha = 0.10:   0.9368\n",
      "alpha = 0.30:   0.9248\n",
      "alpha = 0.50:   0.9176\n",
      "alpha = 0.60:   0.9159\n",
      "alpha = 0.65:   0.9155\n",
      "alpha = 0.70:   0.9154\n",
      "alpha = 0.75:   0.9156\n",
      "alpha = 0.80:   0.9161\n",
      "alpha = 0.90:   0.9181\n",
      "alpha = 1.00:   0.9213\n"
     ]
    }
   ],
   "source": [
    "import pandas as pd\n",
    "import numpy as np\n",
    "import var\n",
    "import predict as pre\n",
    "import utils\n",
    "\n",
    "print('初始化变量...')\n",
    "names = ['user_id', 'item_id', 'rating', 'timestamp']\n",
    "direct = 'dataset/ml-100k/'\n",
    "trainingset_files = (direct + name for name in ('u1.base', 'u2.base', 'u3.base', 'u4.base', 'u5.base'))\n",
    "testset_files = (direct + name for name in ('u1.test', 'u2.test', 'u3.test', 'u4.test', 'u5.test'))\n",
    "\n",
    "if __name__ == '__main__':\n",
    "    \n",
    "    i = 0\n",
    "    nums = 5\n",
    "    alpha_set = [0, 0.1, 0.3, 0.5, 0.6, 0.65, 0.7, 0.75, 0.8, 0.9, 1]\n",
    "    rmse_blendCF = {alpha:[] for alpha in alpha_set}\n",
    "    rmse_blendCF_train = {alpha:[] for alpha in alpha_set}\n",
    "    \n",
    "    for trainingset_file, testset_file in zip(trainingset_files, testset_files):\n",
    "        i += 1\n",
    "        print('------ 第%d/%d组样本 ------' % (i, nums))\n",
    "        df = pd.read_csv(trainingset_file, sep='\\t', names=names)\n",
    "        \n",
    "        var.ratings = np.zeros((var.n_users, var.n_items))\n",
    "        print('载入训练集' + trainingset_file)\n",
    "        for row in df.itertuples():\n",
    "            var.ratings[row[1]-1, row[2]-1] = row[3]\n",
    "          \n",
    "        print('计算训练集各项统计数据...')\n",
    "        utils.cal_mean()\n",
    "\n",
    "        print('计算相似度矩阵...')\n",
    "        var.user_similarity = utils.cal_similarity(kind='user')\n",
    "        var.item_similarity = utils.cal_similarity(kind='item')\n",
    "        print('计算完成')\n",
    "        \n",
    "        predictions_blendCF_train = {alpha:[] for alpha in alpha_set}\n",
    "        targets = []\n",
    "        print('在训练集上测试...')\n",
    "        for row in df.itertuples():\n",
    "            user, item, actual = row[1]-1, row[2]-1, row[3]\n",
    "            for alpha in alpha_set:\n",
    "                predictions_blendCF_train[alpha].append(pre.predict_blend(user, item, alpha=alpha))\n",
    "            targets.append(actual)\n",
    "        for alpha in alpha_set:\n",
    "            rmse_blendCF_train[alpha].append(utils.rmse(np.array(predictions_blendCF_train[alpha]), np.array(targets)))    \n",
    "\n",
    "        print('载入测试集' + testset_file)\n",
    "        test_df = pd.read_csv(testset_file, sep='\\t', names=names)        \n",
    "        predictions_blendCF = {alpha:[] for alpha in alpha_set}\n",
    "        targets = []\n",
    "        print('测试集规模为 %d' % len(test_df))\n",
    "        print('在测试集上测试...')\n",
    "        for row in test_df.itertuples():\n",
    "            user, item, actual = row[1]-1, row[2]-1, row[3]\n",
    "            for alpha in alpha_set:\n",
    "                predictions_blendCF[alpha].append(pre.predict_blend(user, item, alpha=alpha))\n",
    "            targets.append(actual)\n",
    "        for alpha in alpha_set:\n",
    "            rmse_blendCF[alpha].append(utils.rmse(np.array(predictions_blendCF[alpha]), np.array(targets)))          \n",
    "        print('测试完成')\n",
    "        \n",
    "    print('------ 测试结果 ------')\n",
    "    \n",
    "    print('融合模型中，不同alpha在训练集上的RMSE:')\n",
    "    for alpha in sorted(alpha_set):\n",
    "        print('alpha = %.2f:   %.4f' % (alpha, np.mean(rmse_blendCF_train[alpha])))\n",
    "        \n",
    "    print('融合模型中，不同alpha在测试集上的RMSE:')\n",
    "    for alpha in sorted(alpha_set):\n",
    "        print('alpha = %.2f:   %.4f' % (alpha, np.mean(rmse_blendCF[alpha])))\n",
    "    "
   ]
  },
  {
   "cell_type": "code",
   "execution_count": 2,
   "metadata": {
    "collapsed": false
   },
   "outputs": [
    {
     "data": {
      "image/png": "[encoded data removed]",
      "text/plain": [
       "<Figure size 576x576 with 1 Axes>"
      ]
     },
     "metadata": {},
     "output_type": "display_data"
    }
   ],
   "source": [
    "%matplotlib inline\n",
    "import matplotlib.pyplot as plt\n",
    "import seaborn as sns\n",
    "sns.set()\n",
    "\n",
    "# alpha_set\n",
    "rmse_blend_testlist = [np.mean(rmse_blendCF[alpha]) for alpha in alpha_set]\n",
    "rmse_blend_trainlist = [np.mean(rmse_blendCF_train[alpha]) for alpha in alpha_set]\n",
    "\n",
    "pal = sns.color_palette(\"Set2\", 2)\n",
    "\n",
    "plt.figure(figsize=(8, 8))\n",
    "plt.plot(alpha_set, rmse_blend_trainlist, c=pal[0], label='blend train', alpha=0.5, linewidth=5)\n",
    "plt.plot(alpha_set, rmse_blend_testlist, c=pal[0], label='blend test', linewidth=5)\n",
    "\n",
    "plt.legend(loc='best', fontsize=18)\n",
    "plt.xticks(fontsize=16);\n",
    "plt.yticks(fontsize=16);\n",
    "plt.xlabel('alpha', fontsize=25);\n",
    "plt.ylabel('RMSE', fontsize=25);"
   ]
  }
 ],
 "metadata": {
  "kernelspec": {
   "display_name": "base",
   "language": "python",
   "name": "python3"
  },
  "language_info": {
   "codemirror_mode": {
    "name": "ipython",
    "version": 3
   },
   "file_extension": ".py",
   "mimetype": "text/x-python",
   "name": "python",
   "nbconvert_exporter": "python",
   "pygments_lexer": "ipython3",
   "version": "3.8.8"
  },
  "vscode": {
   "interpreter": {
    "hash": "77f56f57217d58f2637a78f43068bb82a198c4b9b7dc36d7b5b03538627b73d0"
   }
  }
 },
 "nbformat": 4,
 "nbformat_minor": 0
}
